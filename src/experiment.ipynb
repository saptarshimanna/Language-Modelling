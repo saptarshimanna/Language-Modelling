{
 "metadata": {
  "language_info": {
   "codemirror_mode": {
    "name": "ipython",
    "version": 3
   },
   "file_extension": ".py",
   "mimetype": "text/x-python",
   "name": "python",
   "nbconvert_exporter": "python",
   "pygments_lexer": "ipython3",
   "version": "3.8.3-final"
  },
  "orig_nbformat": 2,
  "kernelspec": {
   "name": "python3",
   "display_name": "Python 3",
   "language": "python"
  }
 },
 "nbformat": 4,
 "nbformat_minor": 2,
 "cells": [
  {
   "cell_type": "code",
   "execution_count": 40,
   "metadata": {},
   "outputs": [],
   "source": [
    "import re\n",
    "# import collections\n",
    "import random, math\n",
    "import numpy as np\n",
    "from itertools import islice\n"
   ]
  },
  {
   "source": [
    "# Testing"
   ],
   "cell_type": "markdown",
   "metadata": {}
  },
  {
   "cell_type": "code",
   "execution_count": 23,
   "metadata": {},
   "outputs": [
    {
     "output_type": "stream",
     "name": "stdout",
     "text": [
      "Fresh breath and shining teeth enhance your personality\n"
     ]
    }
   ],
   "source": [
    "text = \"Fresh breath and shining teeth enhance your personality.\"\n",
    "# text = \"We never attempt to get the reaction converted to completion because then the residence time , space time required in the reactor will be very , very high because it ' s a reversible reaction .\"\n",
    "# text = \"When we say higher or less than the Km value , when we compare substrate concentration with the Km value , what we are looking at in the case of zero order regime , we often look at the Km value ; K ' m is usually less than 0.01 S0 .\"\n",
    "# text = re.sub('\\\\s+([.,!;?\\'])\\\\s*', r'\\1 ', text)\n",
    "# text = re.sub('(\\'\\s*)', r\"'\", text)\n",
    "# text = re.sub(r\"n't\", \"not\", text)\n",
    "# print(text)\n",
    "print(text[:-1])"
   ]
  },
  {
   "source": [
    "# Code"
   ],
   "cell_type": "markdown",
   "metadata": {}
  },
  {
   "cell_type": "code",
   "execution_count": 41,
   "metadata": {},
   "outputs": [],
   "source": [
    "tags = ('RD_PUNC', 'V_VAUX', 'V_VM', 'N_NN', 'N_NNV', 'QT_QTC', 'PSP', 'CC_CCD', 'DM_DMD', 'RP_RPD', 'RP_NEG', 'JJ')"
   ]
  },
  {
   "cell_type": "code",
   "execution_count": 42,
   "metadata": {},
   "outputs": [],
   "source": [
    "def english_match(strg, search=re.compile(r'^[a-zA-Z]').search):\n",
    "    return bool(search(strg))\n",
    "\n",
    "def pre_processing(text):\n",
    "    text = text[:-1]\n",
    "    #Remove space  around punc\n",
    "    text = re.sub('\\\\s+([.,!;?\\'])\\\\s*', r'\\1 ', text)\n",
    "    #Possession\n",
    "    text = re.sub('(\\'\\s*)', r\"'\", text)\n",
    "\n",
    "    text = re.sub(r\"n't\", \"not\", text)\n",
    "    text = re.sub(r\"there's\", \"there is\", text)\n",
    "    text = re.sub(r\"it's\", \"it is\", text)\n",
    "    text = re.sub(r\"K'm\", \"Km\", text)\n",
    "    #Adding Space around punc\n",
    "    if text[-1] in \".,!?\":\n",
    "        text = text[:-1]+\" \"+text[-1]\n",
    "    text = re.sub('([^0-9])([.,!?])([^0-9])', r'\\1 \\2 \\3', text)\n",
    "\n",
    "    return text\n",
    "\n",
    "def tokenize(text):\n",
    "    text = text.strip()\n",
    "    tokens = text.split()\n",
    "    tokens = [word.lower() for word in tokens]\n",
    "    return tokens\n",
    "\n",
    "def cleanup_text(text):\n",
    "    pass\n",
    "\n",
    "def slicing(sequence, n):\n",
    "    it = iter(sequence)\n",
    "    result = tuple(islice(it, n))\n",
    "    if len(result) == n:\n",
    "        yield result\n",
    "    for elem in it:\n",
    "        result = result[1:] + (elem,)\n",
    "        yield result\n",
    "\n",
    "def flatten(sequences):\n",
    "    if isinstance(sequences, (list,tuple)):\n",
    "        return [a for i in sequences for a in flatten(i)]\n",
    "    else:\n",
    "        return [sequences]"
   ]
  },
  {
   "cell_type": "code",
   "execution_count": 94,
   "metadata": {},
   "outputs": [],
   "source": [
    "class LanguageModel:\n",
    "    def __init__(self, n = 4, smoothing = \"w\"):\n",
    "        self.ngram = n\n",
    "        self.vocabulary = set()\n",
    "        self.count = {}\n",
    "        self.smoothing = smoothing\n",
    "        self.alpha = 0.001\n",
    "\n",
    "    def train(self, tokens):\n",
    "        self.vocabulary = set(flatten(tokens))\n",
    "        self.vocabulary.add(None)\n",
    "        for item in tokens:\n",
    "            # print(item)\n",
    "            for subitem in self.generate_ngrams(item):\n",
    "                # print(subitem)\n",
    "                if subitem[:self.ngram-1] not in self.count:\n",
    "                    self.count[subitem[:self.ngram-1]] = {subitem[self.ngram-1:][0]: 1}\n",
    "                else:\n",
    "                    if subitem[self.ngram-1:][0] in self.count[subitem[:self.ngram-1]]:\n",
    "                        self.count[subitem[:self.ngram-1]][subitem[self.ngram-1:][0]] += 1\n",
    "                    else:\n",
    "                        self.count[subitem[:self.ngram-1]][subitem[self.ngram-1:][0]] = 1\n",
    "            # print(self.count[subitem[:self.ngram-1]])\n",
    "            # break\n",
    "\n",
    "        # print(len(self.count))\n",
    "        # print(len(self.vocabulary))\n",
    "        # print(self.count)\n",
    "\n",
    "    def generate_ngrams(self, tokens):\n",
    "        sequence = []\n",
    "        if not tokens:\n",
    "            return sequence\n",
    "        if self.ngram!=1:\n",
    "            tokens = [None]*(self.ngram-1) + tokens + [None]*(self.ngram-1)\n",
    "        else:\n",
    "            tokens = tokens + [None]\n",
    "        \n",
    "        result = slicing(tokens, self.ngram)\n",
    "        for r in result:\n",
    "            sequence.append(r)\n",
    "        return sequence\n",
    "\n",
    "    def calculate_probability(self, prev_ngram, unigram):\n",
    "        if prev_ngram in self.count:\n",
    "            if unigram in self.count[prev_ngram]:\n",
    "                count = self.count[prev_ngram][unigram]\n",
    "                total = sum(self.count[prev_ngram].values())\n",
    "            else:\n",
    "                count = 1\n",
    "                total = sum(self.count[prev_ngram].values()) + 1\n",
    "\n",
    "            prob = (count+self.alpha)/ (total+ (len(self.vocabulary)*self.alpha))\n",
    "\n",
    "        else:\n",
    "            count, total = 0, 1\n",
    "            prob = random.random() / len(self.vocabulary)\n",
    "        return prob\n",
    "\n",
    "    def calculate_perplexity(self, tokens):\n",
    "        perplexity, num = 0, 0\n",
    "        for item in tokens:\n",
    "            for subitem in self.generate_ngrams(item):\n",
    "                num+= 1\n",
    "                perplexity += math.log(self.calculate_probability(subitem[:self.ngram-1], subitem[self.ngram-1:][0]), 2)\n",
    "        # print(perplexity)\n",
    "        perplexity = math.pow(2, -1*(perplexity/num))\n",
    "        return perplexity\n",
    "\n",
    "    def find_val(self, token):\n",
    "        if len(token) == 0:\n",
    "            return sum(self.count[token].values())\n",
    "        if token in self.count[token]:\n",
    "            return self.count[token][token]\n",
    "        else:\n",
    "             return 0\n",
    "\n",
    "    def witten2(self, token):\n",
    "        uniq = 0\n",
    "        for item in self.count:\n",
    "            if token in item:\n",
    "                uniq += 1\n",
    "        k = uniq + find_val(token)\n",
    "        if (k != 0 ):\n",
    "            return uniq/k\n",
    "        else:\n",
    "            random.uniform(0.00001,0.0001)\n",
    "\n",
    "    def witten(self, token):\n",
    "        x = len(token)\n",
    "        if  x==1:\n",
    "            return find_val(token) / sum(self.count[token].values())\n",
    "        if find_val(token[:-1]) != 0:\n",
    "            return ((1 - self.witten2(token[:-1])) * (find_val(token) / find_val(token[:-1]))) + (self.witten2(token[:-1]) * self.witten(token[:-1]))\n",
    "        else:\n",
    "            return random.uniform(0.00001, 0.0001) +  (witten2(token[:-1]) * witten(token[:-1]))\n",
    "\n",
    "    def kneyser(self, token, order):\n",
    "        x = len(token)\n",
    "        d = 0.75\n",
    "        if find_val(token[:-1]) == 0:\n",
    "            lamda = random.uniform(0,1)\n",
    "            term = random.uniform(0.00001,0.0001)\n",
    "        else:\n",
    "            if x == order:\n",
    "                term = max(0,find_val(token)-d)/find_val(token[:-1])\n",
    "            else:\n",
    "                term = max(0,(sum(token[1:] == token for token in ntokens_c[len(token) + 1].keys()) - d)) / find_val(token[:-1])\n",
    "            lamda = d * sum(token[:-1] == token[:-1] for token in ntokens_c[len(token)].keys()) / find_val(token[:-1])\n",
    "        if x == 1:\n",
    "            return term\n",
    "        else:\n",
    "            return term + lamda * self.kneyser(token[:-1], maxi)\n",
    "\n"
   ]
  },
  {
   "cell_type": "code",
   "execution_count": 53,
   "metadata": {},
   "outputs": [],
   "source": [
    "def prepare_data(path_corpus = \"\"):\n",
    "    try:\n",
    "        # fd_w = open(\"../Output/perplexity.txt\",\"w\")\n",
    "        data = []\n",
    "        with open(path_corpus,\"r\", encoding='ascii', errors = 'ignore') as fd_r:\n",
    "            for line in fd_r:\n",
    "                if line.startswith(tags) or not english_match(line):\n",
    "                    continue\n",
    "                text = pre_processing(line)\n",
    "                data.append(tokenize(text))\n",
    "                # fd_w.write(text + '\\n')\n",
    "        return data\n",
    "    except Exception as e:\n",
    "        print('Exception occurred while reading file', e.message)\n",
    "        # fd_w.close()"
   ]
  },
  {
   "cell_type": "code",
   "execution_count": 77,
   "metadata": {
    "tags": []
   },
   "outputs": [],
   "source": [
    "data = prepare_data(path_corpus = \"../Corpus/technical_domain_corpus.txt\")\n",
    "random.shuffle(data)\n",
    "\n",
    "train_data, test_data = data[1000:], data[:1000]\n",
    "\n",
    "lm = LanguageModel(4)\n",
    "lm.train(train_data)"
   ]
  },
  {
   "cell_type": "code",
   "execution_count": 79,
   "metadata": {},
   "outputs": [],
   "source": [
    "total_score, count = 0, 0\n",
    "with open(\"../Output/2019201070-LM3-test-perplexity.txt\",\"w\") as fd_w:\n",
    "    for item in test_data:\n",
    "        score = lm.calculate_perplexity([item])\n",
    "        line = ' '.join(item).capitalize()[:-2] +'.' + '\\t' + str(score) + '\\n'\n",
    "        fd_w.write(line)\n",
    "        total_score += score\n",
    "        count += 1\n",
    "\n",
    "    line = \"\\nAverage Score : \" + str(total_score/count)\n",
    "    fd_w.write(line)\n",
    "# print(lm.calculate_perplexity(test_data))\n",
    "\n",
    "# [test_data[0]]"
   ]
  },
  {
   "cell_type": "code",
   "execution_count": 68,
   "metadata": {},
   "outputs": [
    {
     "output_type": "stream",
     "name": "stdout",
     "text": [
      "28.194859825851736\n"
     ]
    }
   ],
   "source": [
    "print(lm.calculate_perplexity([test_data]))"
   ]
  },
  {
   "cell_type": "code",
   "execution_count": 70,
   "metadata": {},
   "outputs": [
    {
     "output_type": "stream",
     "name": "stdout",
     "text": [
      "after understanding the lyrics the brain starts behaving differently with both .\n"
     ]
    }
   ],
   "source": [
    "print(' '.join(test_data[0]))"
   ]
  },
  {
   "cell_type": "code",
   "execution_count": null,
   "metadata": {},
   "outputs": [],
   "source": []
  }
 ]
}