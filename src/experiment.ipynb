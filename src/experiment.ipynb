{
 "metadata": {
  "language_info": {
   "codemirror_mode": {
    "name": "ipython",
    "version": 3
   },
   "file_extension": ".py",
   "mimetype": "text/x-python",
   "name": "python",
   "nbconvert_exporter": "python",
   "pygments_lexer": "ipython3",
   "version": "3.8.3-final"
  },
  "orig_nbformat": 2,
  "kernelspec": {
   "name": "python3",
   "display_name": "Python 3",
   "language": "python"
  }
 },
 "nbformat": 4,
 "nbformat_minor": 2,
 "cells": [
  {
   "cell_type": "code",
   "execution_count": 34,
   "metadata": {},
   "outputs": [],
   "source": [
    "from itertools import islice\n",
    "import re\n",
    "import collections\n",
    "import numpy as np\n",
    "from itertools import islice\n"
   ]
  },
  {
   "source": [
    "# Testing"
   ],
   "cell_type": "markdown",
   "metadata": {}
  },
  {
   "cell_type": "code",
   "execution_count": 23,
   "metadata": {},
   "outputs": [
    {
     "output_type": "stream",
     "name": "stdout",
     "text": [
      "Fresh breath and shining teeth enhance your personality\n"
     ]
    }
   ],
   "source": [
    "text = \"Fresh breath and shining teeth enhance your personality.\"\n",
    "# text = \"We never attempt to get the reaction converted to completion because then the residence time , space time required in the reactor will be very , very high because it ' s a reversible reaction .\"\n",
    "# text = \"When we say higher or less than the Km value , when we compare substrate concentration with the Km value , what we are looking at in the case of zero order regime , we often look at the Km value ; K ' m is usually less than 0.01 S0 .\"\n",
    "# text = re.sub('\\\\s+([.,!;?\\'])\\\\s*', r'\\1 ', text)\n",
    "# text = re.sub('(\\'\\s*)', r\"'\", text)\n",
    "# text = re.sub(r\"n't\", \"not\", text)\n",
    "# print(text)\n",
    "print(text[:-1])"
   ]
  },
  {
   "source": [
    "# Code"
   ],
   "cell_type": "markdown",
   "metadata": {}
  },
  {
   "cell_type": "code",
   "execution_count": 2,
   "metadata": {},
   "outputs": [],
   "source": [
    "tags = ('RD_PUNC', 'V_VAUX', 'V_VM', 'N_NN', 'N_NNV', 'QT_QTC', 'PSP', 'CC_CCD', 'DM_DMD', 'RP_RPD', 'RP_NEG', 'JJ')"
   ]
  },
  {
   "cell_type": "code",
   "execution_count": 35,
   "metadata": {},
   "outputs": [],
   "source": [
    "def english_match(strg, search=re.compile(r'^[a-zA-Z]').search):\n",
    "    return bool(search(strg))\n",
    "\n",
    "def pre_processing(text):\n",
    "    text = text[:-1]\n",
    "    #Remove space  around punc\n",
    "    text = re.sub('\\\\s+([.,!;?\\'])\\\\s*', r'\\1 ', text)\n",
    "    #Possession\n",
    "    text = re.sub('(\\'\\s*)', r\"'\", text)\n",
    "\n",
    "    text = re.sub(r\"n't\", \"not\", text)\n",
    "    text = re.sub(r\"there's\", \"there is\", text)\n",
    "    text = re.sub(r\"it's\", \"it is\", text)\n",
    "    text = re.sub(r\"K'm\", \"Km\", text)\n",
    "    #Adding Space around punc\n",
    "    if text[-1] in \".,!?\":\n",
    "        text = text[:-1]+\" \"+text[-1]\n",
    "    text = re.sub('([^0-9])([.,!?])([^0-9])', r'\\1 \\2 \\3', text)\n",
    "\n",
    "    return text\n",
    "\n",
    "def tokenize(text):\n",
    "    text = text.strip()\n",
    "    tokens = text.split()\n",
    "    tokens = [word.lower() for word in tokens]\n",
    "    return tokens\n",
    "\n",
    "def cleanup_text(text):\n",
    "    pass\n",
    "\n",
    "def slicing(sequence, n):\n",
    "    it = iter(sequence)\n",
    "    result = tuple(islice(it, n))\n",
    "    if len(result) == n:\n",
    "        yield result\n",
    "    for elem in it:\n",
    "        result = result[1:] + (elem,)\n",
    "        yield result\n",
    "\n",
    "def flatten(sequences):\n",
    "    if isinstance(sequences, (list,tuple)):\n",
    "        return [a for i in sequences for a in flatten(i)]\n",
    "    else:\n",
    "        return [sequences]"
   ]
  },
  {
   "cell_type": "code",
   "execution_count": 18,
   "metadata": {},
   "outputs": [],
   "source": [
    "def main(smoothing = \"w\", path_corpus = \"\"):\n",
    "    try:\n",
    "        # fd_w = open(\"../Output/processed.txt\",\"w\")\n",
    "        data = []\n",
    "        with open(path_corpus,\"r\", encoding='ascii', errors = 'ignore') as fd_r:\n",
    "            for line in fd_r:\n",
    "                if line.startswith(tags) or not english_match(line):\n",
    "                    continue\n",
    "                text = pre_processing(line)\n",
    "                data.append(tokenize(text))\n",
    "                # fd_w.write(text + '\\n')\n",
    "    except:\n",
    "        print('Exception occurred while reading file')\n",
    "    finally:\n",
    "        # fd_w.close()\n",
    "        fd_r.close()"
   ]
  },
  {
   "cell_type": "code",
   "execution_count": 19,
   "metadata": {},
   "outputs": [],
   "source": [
    "main(path_corpus = \"../Corpus/Health_English.txt\")"
   ]
  },
  {
   "cell_type": "code",
   "execution_count": null,
   "metadata": {},
   "outputs": [],
   "source": [
    "class LanuageModel:\n",
    "    def __init__(self, n = 4, smoothing = \"w\"):\n",
    "        self.ngram = n\n",
    "        self.vocabulary = set()\n",
    "        self.count = {}\n",
    "        self.smoothing = smoothing\n",
    "\n",
    "    def train(self, tokens):\n",
    "        self.vocabulary = set(flatten(token_sequences))\n",
    "        self.vocabulary.add(None)\n",
    "\n",
    "    def generate_ngrams(self, tokens):\n",
    "        sequence = []\n",
    "        if not tokens:\n",
    "            return sequence\n",
    "        if self.ngram!=1:\n",
    "            tokens = [None]*(self.ngram-1) + tokens + [None]*(self.ngram-1)\n",
    "        else:\n",
    "            tokens = tokens + [None]\n",
    "\t\tresult = flatten(tokens, self.ngram)\n",
    "\t\tfor r in result:\n",
    "\t\t\tsequence.append(r)\n",
    "\t\treturn sequence"
   ]
  },
  {
   "cell_type": "code",
   "execution_count": 36,
   "metadata": {},
   "outputs": [
    {
     "output_type": "stream",
     "name": "stdout",
     "text": [
      "[(1, 2), (2, 3), (3, 4), (4, 5), (5, 6), (6, 7), (7, 8), (8, 9), (9, 0)]\n"
     ]
    }
   ],
   "source": [
    "ls = [1,2,3,4,5,6,7,8,9,0]\n",
    "print(list(slicing(ls, 2)))"
   ]
  },
  {
   "cell_type": "code",
   "execution_count": null,
   "metadata": {},
   "outputs": [],
   "source": []
  }
 ]
}